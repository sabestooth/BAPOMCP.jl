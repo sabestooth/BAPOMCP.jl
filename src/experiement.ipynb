{
 "cells": [
  {
   "cell_type": "code",
   "execution_count": null,
   "metadata": {
    "collapsed": false
   },
   "outputs": [],
   "source": [
    "#include(\"BAPOMCP.jl\")"
   ]
  },
  {
   "cell_type": "code",
   "execution_count": null,
   "metadata": {
    "collapsed": false
   },
   "outputs": [],
   "source": [
    "using POMDPs, POMDPModels, POMDPToolbox, ParticleFilters, Distributions#, BAPOMCP\n"
   ]
  },
  {
   "cell_type": "code",
   "execution_count": null,
   "metadata": {
    "collapsed": false
   },
   "outputs": [],
   "source": [
    "\n",
    "# pomdp = TigerPOMDP()\n",
    "\n",
    "# solver = POMCPSolver()\n",
    "# planner = solve(solver, pomdp)\n",
    "\n",
    "# for (s, a, o) in stepthrough(pomdp, planner, \"sao\", max_steps=10)\n",
    "#     println(\"State was $s,\")\n",
    "#     println(\"action $a was taken,\")\n",
    "#     println(\"and observation $o was received.\\n\")\n",
    "# end"
   ]
  },
  {
   "cell_type": "code",
   "execution_count": null,
   "metadata": {
    "collapsed": true
   },
   "outputs": [],
   "source": [
    "#rand(Categorical([0.5,0.5]))"
   ]
  },
  {
   "cell_type": "code",
   "execution_count": null,
   "metadata": {
    "collapsed": false
   },
   "outputs": [],
   "source": [
    "pomdp = TigerPOMDP()"
   ]
  },
  {
   "cell_type": "code",
   "execution_count": null,
   "metadata": {
    "collapsed": false
   },
   "outputs": [],
   "source": [
    "\n",
    "mutable struct BAPOMDPState{S}\n",
    "    s::S                        #State\n",
    "    oc::Array{Int,3}             #Multi dimensional array: Array{Int}(S,A,O)\n",
    "    tc::Array{Int,3}             #Multi dimensional array: Array{Int}(S,A,S)\n",
    "end\n"
   ]
  },
  {
   "cell_type": "code",
   "execution_count": null,
   "metadata": {
    "collapsed": false
   },
   "outputs": [],
   "source": [
    "function obs_count_prob(p::POMDP,s::BAPOMDPState,a,o)\n",
    "    s_idx = find(x -> x==s.s,states(p))\n",
    "    a_idx = find(x -> x==a,actions(p))\n",
    "    o_idx = find(x -> x==o,observations(p))\n",
    "    return first(s.oc[s_idx,a_idx,o_idx]/sum(s.oc[s_idx,a_idx,:])) #convert to scalar\n",
    "end\n",
    "\n",
    "#Get the transition probability\n",
    "function trans_count_prob(p::POMDP,s::BAPOMDPState,a,sp::BAPOMDPState)\n",
    "    s_idx = find(x -> x==s.s,states(p))\n",
    "    a_idx = find(x -> x==a,actions(p))\n",
    "    sp_idx = find(x -> x==sp.s,states(p))\n",
    "    return first(s.tc[s_idx,a_idx,sp_idx]/sum(s.tc[s_idx,a_idx,:])) #convert to scalar\n",
    "end\n",
    "\n",
    "#Get the distribution of transition probabilities\n",
    "function trans_count_dist(p::POMDP,s::BAPOMDPState,a)\n",
    "    s_idx = find(x -> x==s.s,states(p))\n",
    "    a_idx = find(x -> x==a,actions(p))\n",
    "    return reshape(s.tc[s_idx,a_idx,:]/sum(s.tc[s_idx,a_idx,:]),(n_states(p)))\n",
    "end\n",
    "\n",
    "\n"
   ]
  },
  {
   "cell_type": "code",
   "execution_count": null,
   "metadata": {
    "collapsed": false
   },
   "outputs": [],
   "source": [
    "#Initialize the BAPOMDP state\n",
    "function initiate_state(p::POMDP,s)\n",
    "    tc = ones(Int,POMDPs.n_states(p),POMDPs.n_actions(p),POMDPs.n_states(p))\n",
    "    oc = ones(Int,POMDPs.n_states(p),POMDPs.n_actions(p),POMDPs.n_observations(p))\n",
    "    return BAPOMDPState{state_type(p)}(s,oc,tc)\n",
    "end\n"
   ]
  },
  {
   "cell_type": "code",
   "execution_count": null,
   "metadata": {
    "collapsed": false
   },
   "outputs": [],
   "source": [
    "#Copy BAPOMDP state\n",
    "function copy(s::BAPOMDPState)\n",
    "    return BAPOMDPState(s.s,Base.copy(s.oc),Base.copy(s.tc))\n",
    "end\n"
   ]
  },
  {
   "cell_type": "code",
   "execution_count": null,
   "metadata": {
    "collapsed": false
   },
   "outputs": [],
   "source": [
    "#Increment the counts for the new sp\n",
    "function increment_trans_obs_counts(p::POMDP,s::BAPOMDPState,a,o,sp::BAPOMDPState)\n",
    "    s_idx = find(x -> x==s.s,states(p))\n",
    "    a_idx = find(x -> x==a,actions(p))\n",
    "    sp_idx = find(x -> x==sp.s,states(p))\n",
    "    o_idx = find(x -> x==o,observations(p))\n",
    "    sp.tc[s_idx,a_idx,sp_idx] += 1 #only can do transition at this time, observation will be updated later\n",
    "    sp.oc[s_idx,a_idx,o_idx] += 1 #only can do transition at this time, observation will be updated later\n",
    "end\n"
   ]
  },
  {
   "cell_type": "code",
   "execution_count": null,
   "metadata": {
    "collapsed": false
   },
   "outputs": [],
   "source": [
    "\n",
    "function ParticleFilters.generate_s(model::POMDP,s::BAPOMDPState,a,rng::AbstractRNG)\n",
    "    sp = copy(s)\n",
    "    s_index = rand(Categorical(trans_count_dist(model,s,a))) #Handle states that are not integers\n",
    "    sp.s = states(model)[s_index]\n",
    "    return sp\n",
    "end\n",
    "\n",
    "#OUtput of this is put into a WeightedParticleBelief, paired with the output of the generate_s() above\n",
    "#only just the probability of sp + o, given a + s; P(s',o | a,s)\n",
    "function ParticleFilters.obs_weight(model::POMDP,a,s::BAPOMDPState,sp::BAPOMDPState,o)\n",
    "    increment_trans_obs_counts(model,s,a,o,sp)\n",
    "    return obs_count_prob(model,s,a,o) * trans_count_prob(model,s,a,sp) #merge the observation and transition probabilities together\n",
    "end\n"
   ]
  },
  {
   "cell_type": "code",
   "execution_count": null,
   "metadata": {
    "collapsed": false
   },
   "outputs": [],
   "source": [
    "s1 = initiate_state(pomdp,1)"
   ]
  },
  {
   "cell_type": "code",
   "execution_count": null,
   "metadata": {
    "collapsed": false
   },
   "outputs": [],
   "source": [
    "#BAPOMDPState{Int}(1,zeros(Int,1,2,3),zeros(Int,1,2,3))\n"
   ]
  },
  {
   "cell_type": "code",
   "execution_count": null,
   "metadata": {
    "collapsed": false
   },
   "outputs": [],
   "source": [
    "aa = copy(s1)\n"
   ]
  },
  {
   "cell_type": "code",
   "execution_count": null,
   "metadata": {
    "collapsed": false,
    "scrolled": true
   },
   "outputs": [],
   "source": [
    "increment_trans_obs_counts(pomdp,s1,0,true,aa)"
   ]
  },
  {
   "cell_type": "code",
   "execution_count": null,
   "metadata": {
    "collapsed": false
   },
   "outputs": [],
   "source": [
    "observations(pomdp)"
   ]
  },
  {
   "cell_type": "code",
   "execution_count": null,
   "metadata": {
    "collapsed": false
   },
   "outputs": [],
   "source": [
    "actions(pomdp)\n"
   ]
  },
  {
   "cell_type": "code",
   "execution_count": null,
   "metadata": {
    "collapsed": false
   },
   "outputs": [],
   "source": [
    "aa"
   ]
  },
  {
   "cell_type": "code",
   "execution_count": null,
   "metadata": {
    "collapsed": false
   },
   "outputs": [],
   "source": [
    "ParticleFilters.obs_weight(pomdp,0,s1,aa,true)"
   ]
  },
  {
   "cell_type": "code",
   "execution_count": null,
   "metadata": {
    "collapsed": false
   },
   "outputs": [],
   "source": [
    "a1=obs_count_prob(pomdp,s1,0,true)"
   ]
  },
  {
   "cell_type": "code",
   "execution_count": null,
   "metadata": {
    "collapsed": false
   },
   "outputs": [],
   "source": [
    "a2=trans_count_prob(pomdp,s1,0,aa)"
   ]
  },
  {
   "cell_type": "code",
   "execution_count": null,
   "metadata": {
    "collapsed": false
   },
   "outputs": [],
   "source": [
    "first(a1)"
   ]
  },
  {
   "cell_type": "code",
   "execution_count": null,
   "metadata": {
    "collapsed": false
   },
   "outputs": [],
   "source": [
    "ParticleFilters.generate_s(pomdp,s1,0,MersenneTwister(1234))"
   ]
  },
  {
   "cell_type": "code",
   "execution_count": null,
   "metadata": {
    "collapsed": false
   },
   "outputs": [],
   "source": [
    "d1 = trans_count_dist(pomdp,s1,0)\n"
   ]
  },
  {
   "cell_type": "code",
   "execution_count": null,
   "metadata": {
    "collapsed": false
   },
   "outputs": [],
   "source": [
    "s_index = rand(Categorical(d1))"
   ]
  },
  {
   "cell_type": "code",
   "execution_count": null,
   "metadata": {
    "collapsed": false
   },
   "outputs": [],
   "source": [
    "states(pomdp)[1]"
   ]
  },
  {
   "cell_type": "code",
   "execution_count": null,
   "metadata": {
    "collapsed": true
   },
   "outputs": [],
   "source": []
  }
 ],
 "metadata": {
  "anaconda-cloud": {},
  "kernelspec": {
   "display_name": "Julia 0.6.2",
   "language": "julia",
   "name": "julia-0.6"
  },
  "language_info": {
   "file_extension": ".jl",
   "mimetype": "application/julia",
   "name": "julia",
   "version": "0.6.2"
  }
 },
 "nbformat": 4,
 "nbformat_minor": 0
}
