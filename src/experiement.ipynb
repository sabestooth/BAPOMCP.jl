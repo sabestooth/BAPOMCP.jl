{
 "cells": [
  {
   "cell_type": "code",
   "execution_count": 1,
   "metadata": {
    "collapsed": false
   },
   "outputs": [
    {
     "name": "stderr",
     "output_type": "stream",
     "text": [
      "WARNING: Method definition midpoints(Base.Range{T} where T) in module Base at deprecated.jl:56 overwritten in module StatsBase at /home/whitesabertooth/.julia/v0.6/StatsBase/src/hist.jl:535.\n",
      "WARNING: Method definition midpoints(AbstractArray{T, 1} where T) in module Base at deprecated.jl:56 overwritten in module StatsBase at /home/whitesabertooth/.julia/v0.6/StatsBase/src/hist.jl:533.\n",
      "WARNING: could not import MCTS.default_action into BAPOMCP\n"
     ]
    },
    {
     "data": {
      "text/plain": [
       "BAPOMCP"
      ]
     },
     "execution_count": 1,
     "metadata": {},
     "output_type": "execute_result"
    }
   ],
   "source": [
    "include(\"BAPOMCP.jl\")"
   ]
  },
  {
   "cell_type": "code",
   "execution_count": 2,
   "metadata": {
    "collapsed": true
   },
   "outputs": [],
   "source": [
    "using POMDPs, POMDPModels, POMDPToolbox, BAPOMCP\n"
   ]
  },
  {
   "cell_type": "code",
   "execution_count": 3,
   "metadata": {
    "collapsed": false
   },
   "outputs": [
    {
     "name": "stdout",
     "output_type": "stream",
     "text": [
      "State was false,\n",
      "action 0 was taken,\n",
      "and observation false was received.\n",
      "\n",
      "State was false,\n",
      "action 0 was taken,\n",
      "and observation false was received.\n",
      "\n",
      "State was false,\n",
      "action 1 was taken,\n",
      "and observation false was received.\n",
      "\n",
      "State was false,\n",
      "action 0 was taken,\n",
      "and observation false was received.\n",
      "\n",
      "State was false,\n",
      "action 0 was taken,\n",
      "and observation false was received.\n",
      "\n",
      "State was false,\n",
      "action 1 was taken,\n",
      "and observation false was received.\n",
      "\n",
      "State was false,\n",
      "action 0 was taken,\n",
      "and observation false was received.\n",
      "\n",
      "State was false,\n",
      "action 0 was taken,\n",
      "and observation false was received.\n",
      "\n",
      "State was false,\n",
      "action 0 was taken,\n",
      "and observation true was received.\n",
      "\n",
      "State was false,\n",
      "action 1 was taken,\n",
      "and observation false was received.\n",
      "\n"
     ]
    }
   ],
   "source": [
    "\n",
    "pomdp = TigerPOMDP()\n",
    "\n",
    "solver = POMCPSolver()\n",
    "planner = solve(solver, pomdp)\n",
    "\n",
    "for (s, a, o) in stepthrough(pomdp, planner, \"sao\", max_steps=10)\n",
    "    println(\"State was $s,\")\n",
    "    println(\"action $a was taken,\")\n",
    "    println(\"and observation $o was received.\\n\")\n",
    "end"
   ]
  },
  {
   "cell_type": "code",
   "execution_count": null,
   "metadata": {
    "collapsed": true
   },
   "outputs": [],
   "source": []
  }
 ],
 "metadata": {
  "kernelspec": {
   "display_name": "Julia 0.6.2",
   "language": "julia",
   "name": "julia-0.6"
  },
  "language_info": {
   "file_extension": ".jl",
   "mimetype": "application/julia",
   "name": "julia",
   "version": "0.6.2"
  }
 },
 "nbformat": 4,
 "nbformat_minor": 0
}
